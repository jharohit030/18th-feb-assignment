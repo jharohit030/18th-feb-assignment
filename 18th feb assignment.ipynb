{
 "cells": [
  {
   "cell_type": "code",
   "execution_count": null,
   "id": "b87e02a5",
   "metadata": {},
   "outputs": [],
   "source": [
    "#Question 1:\n",
    "\n",
    "An API is the interface that allows two independent software components to exchange information. An API acts as an intermediary between internal software functions and external ones, creating an exchange of information so seamless that it often goes unnoticed by the end user.\n",
    "\n",
    "Example:\n",
    "    \n",
    "    1.Sharing flight information between airlines and travel sites\n",
    "    2.Building chatbots in a messaging service\n"
   ]
  },
  {
   "cell_type": "code",
   "execution_count": null,
   "id": "ae59c05d",
   "metadata": {},
   "outputs": [],
   "source": [
    "#Question 2:\n",
    "\n",
    "Advantage of API:\n",
    "\n",
    "1.Increased Visibility and Traffic\n",
    "2.Seamless Integration , It makes it easy to integrate with other applications and services, saving you time and money.\n",
    "3.Increased Efficiency, It allows you to access data and functionality without navigating multiple menus or screens. This can speed up the development process and make your app or website more user-friendly.\n",
    "4.Reduced Costs,It allows developers to reuse code and functionality in multiple applications, saving time and money.\n",
    "\n",
    "Disadvantage of API:\n",
    "\n",
    "1.Increased Complexity, they can be complex and challenging to use, making them challenging for novice developers.\n",
    "\n",
    "2.Limited Functionality, They may not have all the functionality you need, requiring additional development work.\n",
    "\n",
    "3.Security and Privacy Risks They can pose security and privacy risks if they’re not implemented correctly. Therefore, it’s essential to carefully consider these risks before using them in your application.\n",
    "\n",
    "\n"
   ]
  },
  {
   "cell_type": "code",
   "execution_count": null,
   "id": "bc677c05",
   "metadata": {},
   "outputs": [],
   "source": [
    "#Question 3:\n",
    "\n",
    "Web API is an API as the name suggests, it can be accessed over the web using the HTTP protocol. It is a framework that helps you to create and develop HTTP based RESTFUL services. The web API can be developed by using different technologies such as java, ASP.NET, etc. Web API is used in either a web server or a web browser. \n",
    "\n",
    "APIs enable software integrations since they expose some of an application's inner data that developers use. This makes an API an \"interface\" — you can request data from an otherwise closed-off application. Remember: it's not uncommon for organizations to use several APIs.\n",
    "Web Api are subset of api and it generally uses the HTTP protocols."
   ]
  },
  {
   "cell_type": "code",
   "execution_count": null,
   "id": "8556b7d0",
   "metadata": {},
   "outputs": [],
   "source": [
    "#Question 4:\n",
    "\n",
    "REST:\n",
    "\n",
    "    REST is a set of architectural principles attuned to the needs of lightweight web services and mobile applications.\n",
    "    When a request for data is sent to a REST API, it’s usually done through hypertext transfer protocol (commonly referred to as HTTP). Once a request is received, APIs designed for REST (called RESTful APIs or RESTful web services) can return messages in a variety of formats: HTML, XML, plain text, and JSON. JSON (JavaScript object notation) is favored as a message format because it can be read by any programming language (despite the name), is human- and machine-readable, and is lightweight. In this way, RESTful APIs are more flexible and can be easier to set up.\n",
    "    REST follows client server architecture and it is stateless and cacheable.\n",
    "\n",
    "SOAP:\n",
    "    \n",
    "    SOAP is a standard protocol that was first designed so that applications built with different languages and on different platforms could communicate. Because it is a protocol, it imposes built-in rules that increase its complexity and overhead, which can lead to longer page load times. However, these standards also offer built-in compliances that can make it preferable for enterprise scenarios. The built-in compliance standards include security, atomicity, consistency, isolation, and durability (ACID), which is a set of properties for ensuring reliable database transactions.\n",
    "    SOAP architecture is based on XML. Xml is a markup language\n",
    "    or file system. Internally XML uses WSDL(Web Service description language)\n",
    "    SOAP support HTTP, SMTP, TCP protocols.It is more secure than rest architecture.\n",
    "\n",
    "Shortcoming of SOAP\n",
    "    \n",
    "   1.SOAP uses XML format that must be parsed to be read. It defines many standards that must be followed while developing the SOAP applications. So it is slow and consumes more bandwidth and resource.\n",
    "   2. SOAP uses WSDL and doesn't have any other mechanism to discover the service.\n",
    "  "
   ]
  },
  {
   "cell_type": "code",
   "execution_count": null,
   "id": "73187097",
   "metadata": {},
   "outputs": [],
   "source": [
    "#Question 5:\n",
    "\n",
    "Difference between REST and SOAP\n",
    "\n",
    "SOAP\n",
    "\n",
    "1.SOAP is a protocol.\n",
    "2.SOAP stands for Simple Object Access Protocol.\n",
    "3.SOAP can't use REST because it is a protocol.\n",
    "4.SOAP uses services interfaces to expose the business logic.\n",
    "5.SOAP defines standards to be strictly followed.\n",
    "6.SOAP permits XML data format only.\n",
    "\n",
    "REST\n",
    "\n",
    "1.REST is an architectural style.\n",
    "2.REST stands for REpresentational State Transfer.\n",
    "3.REST can use SOAP web services because it is a concept and can use any protocol like HTTP, SOAP.\n",
    "4.REST uses URI to expose business logic.\n",
    "5.REST does not define too much standards like SOAP.\n",
    "6.REST permits different data format such as Plain text, HTML, XML, JSON etc.\n"
   ]
  }
 ],
 "metadata": {
  "kernelspec": {
   "display_name": "Python 3 (ipykernel)",
   "language": "python",
   "name": "python3"
  },
  "language_info": {
   "codemirror_mode": {
    "name": "ipython",
    "version": 3
   },
   "file_extension": ".py",
   "mimetype": "text/x-python",
   "name": "python",
   "nbconvert_exporter": "python",
   "pygments_lexer": "ipython3",
   "version": "3.10.9"
  }
 },
 "nbformat": 4,
 "nbformat_minor": 5
}
